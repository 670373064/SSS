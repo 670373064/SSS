{
 "cells": [
  {
   "cell_type": "code",
   "execution_count": 1,
   "metadata": {},
   "outputs": [],
   "source": [
    "from config import *\n",
    "from tools import *\n",
    "from U_Resnet import *"
   ]
  },
  {
   "cell_type": "code",
   "execution_count": 2,
   "metadata": {},
   "outputs": [
    {
     "name": "stdout",
     "output_type": "stream",
     "text": [
      "INFO:tensorflow:Restoring parameters from ./snapshot/U_Resnet.ckpt\n"
     ]
    }
   ],
   "source": [
    "img_path = explore_dir(\"./dataset/val_images/\")[1][:,np.newaxis]\n",
    "mask_path = explore_dir(\"./dataset/TrainVal_parsing_annotations/val_segmentations/\")[1][:,np.newaxis]\n",
    "val_paths = np.concatenate((img_path,mask_path), axis=1)\n",
    "\n",
    "val_dataset=np.array(Pool(processes=4).map(im_and_roi_read,val_paths)).transpose(1,0,2,3,4)\n",
    "val_img, val_roi = val_dataset\n",
    "val_data, val_label = separate_batches(val_img,val_roi, 20)\n",
    "\n",
    "tf.reset_default_graph()\n",
    "\n",
    "uresnet = U_Resnet((256,256,3), (256,256,3),20)\n",
    "\n",
    "saver = tf.train.Saver()\n",
    "saver.restore(uresnet.sess, \"./snapshot/U_Resnet.ckpt\")"
   ]
  },
  {
   "cell_type": "code",
   "execution_count": null,
   "metadata": {},
   "outputs": [
    {
     "name": "stderr",
     "output_type": "stream",
     "text": [
      "[ Estimating Validation Dataset ]:  98%|█████████▊| 489/500 [21:47<00:56,  5.11s/it]"
     ]
    }
   ],
   "source": [
    "with tqdm(total=len(val_data)) as pbar:\n",
    "    pbar.set_description(\"[ Estimating Validation Dataset ]\")\n",
    "    roi_result = []\n",
    "    for v in range(len(val_data)):\n",
    "        result = uresnet.sess.run(uresnet.score, feed_dict={uresnet.x: val_data[v],uresnet.keep_prob: 1.0})\n",
    "        result = np.argmax(result,axis=3)[:,:,:,np.newaxis]\n",
    "        result = masking(result)\n",
    "        roi_result += list(result)\n",
    "        pbar.update(1)"
   ]
  },
  {
   "cell_type": "code",
   "execution_count": null,
   "metadata": {},
   "outputs": [],
   "source": [
    "idx=1\n",
    "fig, plot = plt.subplots(1,3)\n",
    "fig.set_size_inches(15, 15)\n",
    "plot[0].imshow(val_img[idx][:,:,[2,1,0]])\n",
    "plot[0].set_title(\"Original Image\")\n",
    "plot[1].imshow(roi_result[idx][:,:,[2,1,0]])\n",
    "plot[1].set_title(\"Predicted RoI Mask\")\n",
    "plot[2].imshow(masking(val_roi[idx][np.newaxis,:,:,0])[0])\n",
    "plot[2].set_title(\"Ground Truth RoI Mask\")"
   ]
  }
 ],
 "metadata": {
  "kernelspec": {
   "display_name": "Python 3",
   "language": "python",
   "name": "python3"
  },
  "language_info": {
   "codemirror_mode": {
    "name": "ipython",
    "version": 3
   },
   "file_extension": ".py",
   "mimetype": "text/x-python",
   "name": "python",
   "nbconvert_exporter": "python",
   "pygments_lexer": "ipython3",
   "version": "3.5.2"
  }
 },
 "nbformat": 4,
 "nbformat_minor": 2
}
